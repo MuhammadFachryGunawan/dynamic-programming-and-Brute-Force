{
  "nbformat": 4,
  "nbformat_minor": 0,
  "metadata": {
    "colab": {
      "provenance": []
    },
    "kernelspec": {
      "name": "python3",
      "display_name": "Python 3"
    },
    "language_info": {
      "name": "python"
    }
  },
  "cells": [
    {
      "cell_type": "markdown",
      "source": [
        "DYNAMIC PROGRAM "
      ],
      "metadata": {
        "id": "KwqKJ5dtnv_S"
      }
    },
    {
      "cell_type": "code",
      "source": [
        "from functools import cmp_to_key"
      ],
      "metadata": {
        "id": "zKl7-FE_nxuZ"
      },
      "execution_count": null,
      "outputs": []
    },
    {
      "cell_type": "code",
      "source": [
        "#pekerjaan memiliki waktu mulai,waktu selesai, profit\n",
        "class Job:\n",
        " \n",
        "    def __init__(self, waktu_mulai, waktu_selesai, profit):\n",
        " \n",
        "        self.waktu_mulai = waktu_mulai\n",
        "        self.waktu_selesai = waktu_selesai\n",
        "        self.profit = profit"
      ],
      "metadata": {
        "id": "NVmIShO4n6_R"
      },
      "execution_count": null,
      "outputs": []
    },
    {
      "cell_type": "code",
      "source": [
        "#prosedure untuk memilih pekerjaan sesuai dengan waktu selesai \n",
        "def mencari_pekerjaan(s1, s2):\n",
        " \n",
        "    return s1.waktu_selesai < s2.waktu_selesai"
      ],
      "metadata": {
        "id": "9DR1gHMvoXMZ"
      },
      "execution_count": null,
      "outputs": []
    },
    {
      "cell_type": "code",
      "source": [
        "#menemukan pekerjaan terbaru yang tidak bentrok\n",
        "def latestNonConflict(arr, i):\n",
        " \n",
        "    for j in range(i - 1, -1, -1):\n",
        "        if arr[j].waktu_selesai <= arr[i - 1].waktu_mulai:\n",
        "            return j\n",
        " \n",
        "    return -1"
      ],
      "metadata": {
        "id": "FlLVndnXosVh"
      },
      "execution_count": null,
      "outputs": []
    },
    {
      "cell_type": "code",
      "source": [
        "def findMaxProfit(arr, n):\n",
        "  #urutkan pekerjaan menurut waktu selesai \n",
        "   arr = sorted(arr, key=cmp_to_key(mencari_pekerjaan))\n",
        "   #membuat arrai untuk menyimpan sub masalah\n",
        "   table = [None] * n\n",
        "   table[0] = arr[0].profit\n",
        "\n",
        "   for i in range(1, n):\n",
        "     #keuntungan pekerjaan saat ini\n",
        "     inclProf = arr[i].profit\n",
        "     l = latestNonConflict(arr, i)\n",
        "     if l != -1:\n",
        "       inclProf += table[l]\n",
        "     #menyimpan profit maksimum\n",
        "     table[i] = max(inclProf, table[i - 1])\n",
        "   #menyimpan hasil\n",
        "   result = table[n - 1]\n",
        "   return result\n"
      ],
      "metadata": {
        "id": "b15T3eYGpiqo"
      },
      "execution_count": null,
      "outputs": []
    },
    {
      "cell_type": "code",
      "source": [
        "#main program\n",
        "masukan = [(3, 10, 20), (1, 2, 50),\n",
        "          (6, 19, 100), (2, 24, 200)]\n",
        "arr = []\n",
        "for i in masukan:\n",
        "    arr.append(Job(i[0], i[1], i[2]))\n",
        " \n",
        "n = len(arr)\n",
        " \n",
        "print(\"profit yang paling optimal :\", findMaxProfit(arr, n))"
      ],
      "metadata": {
        "colab": {
          "base_uri": "https://localhost:8080/"
        },
        "id": "QJn5BkdmtUP9",
        "outputId": "9e0c466e-5739-46f9-c7ba-30350c083cdf"
      },
      "execution_count": null,
      "outputs": [
        {
          "output_type": "stream",
          "name": "stdout",
          "text": [
            "profit yang paling optimal : 250\n"
          ]
        }
      ]
    },
    {
      "cell_type": "code",
      "source": [
        "import time\n",
        "start = time.time()\n",
        "\n",
        "end = time.time()\n",
        "print(\"The time of execution of above program is :\", end-start)"
      ],
      "metadata": {
        "id": "fVrAr60eR4B-",
        "outputId": "6fa95818-ee24-4681-bd13-4210ad9df911",
        "colab": {
          "base_uri": "https://localhost:8080/"
        }
      },
      "execution_count": null,
      "outputs": [
        {
          "output_type": "stream",
          "name": "stdout",
          "text": [
            "The time of execution of above program is : 3.0279159545898438e-05\n"
          ]
        }
      ]
    },
    {
      "cell_type": "markdown",
      "source": [
        "BRUTE FORCE "
      ],
      "metadata": {
        "id": "lFBW1Yj5uKWl"
      }
    },
    {
      "cell_type": "code",
      "source": [
        "from itertools import combinations"
      ],
      "metadata": {
        "id": "N_s0KfYZuKH1"
      },
      "execution_count": null,
      "outputs": []
    },
    {
      "cell_type": "code",
      "source": [
        "#MEMBUAT COMBINASI AGAR PERHITUNGAN NANTI BISA MENGECEK SEMUA KEMUNGKINAN [{1}, {2}, {3}, {4}, {1, 2}, {1, 3}, ..., {1, 2, 3, 4}]\n",
        "comb = []\n",
        "a = [1,2,3,4]\n",
        "for x in range(1, len(a)+1) :\n",
        "    b = combinations(a, x)\n",
        "    for i in b :\n",
        "        comb.append(i)"
      ],
      "metadata": {
        "id": "fHHBVkNauOWl"
      },
      "execution_count": null,
      "outputs": []
    },
    {
      "cell_type": "code",
      "source": [
        "#PROSEDUR BRUTE FORCE\n",
        "def profit(kerja, comb) :\n",
        "    hasil = []\n",
        "    #LOOPING I DI AMBIL DARI INDEX COMBINASI\n",
        "    for i in comb : \n",
        "        idx = 0\n",
        "        deadlines = [(0,0)]\n",
        "        jumlah = 0\n",
        "        tambah = 1\n",
        "        #LOOPING J DI AMBIL DARI NILAI I\n",
        "        for j in i : \n",
        "           # MENGECEK WAKTU PEKERJAAN\n",
        "            if kerja[j-1][1] <= deadlines[idx][0] :\n",
        "                deadlines.append((kerja[j-1][0],kerja[j-1][1]))\n",
        "                tambah += 1      \n",
        "                if tambah == len(deadlines) : \n",
        "                    #MENAMBAHKAN PROFIT\n",
        "                    jumlah = jumlah + kerja[j-1][2]\n",
        "                idx += 1\n",
        "            else :\n",
        "                #MENGECEK WAKTU PEKERJAAN\n",
        "                if kerja[j-1][0] >= deadlines[idx][1]  :\n",
        "                    deadlines.append((kerja[j-1][0],kerja[j-1][1]))\n",
        "                    tambah += 1\n",
        "                    if tambah == len(deadlines) :\n",
        "                        #MENAMBAHKAN PROFIT\n",
        "                        jumlah = jumlah + kerja[j-1][2]\n",
        "                    idx += 1\n",
        "        deadlines.pop(0)\n",
        "        hasil.append((jumlah, deadlines))\n",
        "    return max(hasil)"
      ],
      "metadata": {
        "id": "WXYEtqXRudlF"
      },
      "execution_count": null,
      "outputs": []
    },
    {
      "cell_type": "code",
      "source": [
        "#MAIN PROGRAM \n",
        "kerja = [(1,2,50),(1,5,20),(6,19,100),(2,24,200)]\n",
        "print(\"Mendapatkan profit terbesar dan pekerjaan :\",profit(kerja, comb))"
      ],
      "metadata": {
        "colab": {
          "base_uri": "https://localhost:8080/"
        },
        "id": "gKAxtVsPvLh8",
        "outputId": "d43250ba-e497-4e8d-9581-45f40a7c4382"
      },
      "execution_count": null,
      "outputs": [
        {
          "output_type": "stream",
          "name": "stdout",
          "text": [
            "Mendapatkan profit terbesar dan pekerjaan : (250, [(1, 2), (2, 24)])\n"
          ]
        }
      ]
    }
  ]
}